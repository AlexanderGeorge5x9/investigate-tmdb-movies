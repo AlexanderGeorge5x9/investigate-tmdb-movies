{
 "cells": [
  {
   "cell_type": "markdown",
   "metadata": {},
   "source": [
    "> **Tip**: Welcome to the Investigate a Dataset project! You will find tips in quoted sections like this to help organize your approach to your investigation. Before submitting your project, it will be a good idea to go back through your report and remove these sections to make the presentation of your work as tidy as possible. First things first, you might want to double-click this Markdown cell and change the title so that it reflects your dataset and investigation.\n",
    "\n",
    "# Project: Investigate a Dataset (Replace this with something more specific!)\n",
    "\n",
    "## Table of Contents\n",
    "<ul>\n",
    "<li><a href=\"#intro\">Introduction</a></li>\n",
    "<li><a href=\"#wrangling\">Data Wrangling</a></li>\n",
    "<li><a href=\"#eda\">Exploratory Data Analysis</a></li>\n",
    "<li><a href=\"#conclusions\">Conclusions</a></li>\n",
    "</ul>"
   ]
  },
  {
   "cell_type": "markdown",
   "metadata": {},
   "source": [
    "<a id='intro'></a>\n",
    "## Introduction\n",
    "\n",
    "> list of questions:\n"
   ]
  },
  {
   "cell_type": "markdown",
   "metadata": {},
   "source": [
    ">1-what are the relation between the movies rating and popularity ??\n"
   ]
  },
  {
   "cell_type": "markdown",
   "metadata": {},
   "source": [
    ">2-what is the most productive years ?\n"
   ]
  },
  {
   "cell_type": "markdown",
   "metadata": {},
   "source": [
    ">3-what happend to the movies budget what is it's effect on the profit and the run time over the years ?\n"
   ]
  },
  {
   "cell_type": "markdown",
   "metadata": {},
   "source": [
    ">4-what is the most prfitable years ?"
   ]
  },
  {
   "cell_type": "code",
   "execution_count": 59,
   "metadata": {
    "collapsed": true
   },
   "outputs": [],
   "source": [
    "# Use this cell to set up import statements for all of the packages that you\n",
    "#   plan to use.\n",
    "import numpy as np\n",
    "import pandas as pd \n",
    "import matplotlib.pyplot as plt\n",
    "import seaborn as sns\n",
    "%matplotlib inline "
   ]
  },
  {
   "cell_type": "markdown",
   "metadata": {},
   "source": [
    "<a id='wrangling'></a>\n",
    "## Data Wrangling\n",
    "\n",
    "> **Tip**: In this section of the report, you will load in the data, check for cleanliness, and then trim and clean your dataset for analysis. Make sure that you document your steps carefully and justify your cleaning decisions.\n",
    "\n",
    "### General Properties"
   ]
  },
  {
   "cell_type": "code",
   "execution_count": 60,
   "metadata": {
    "collapsed": true
   },
   "outputs": [
    {
     "name": "stdout",
     "output_type": "stream",
     "text": [
      "<class 'pandas.core.frame.DataFrame'>\n",
      "RangeIndex: 10866 entries, 0 to 10865\n",
      "Data columns (total 21 columns):\n",
      " #   Column                Non-Null Count  Dtype  \n",
      "---  ------                --------------  -----  \n",
      " 0   id                    10866 non-null  int64  \n",
      " 1   imdb_id               10856 non-null  object \n",
      " 2   popularity            10866 non-null  float64\n",
      " 3   budget                10866 non-null  int64  \n",
      " 4   revenue               10866 non-null  int64  \n",
      " 5   original_title        10866 non-null  object \n",
      " 6   cast                  10790 non-null  object \n",
      " 7   homepage              2936 non-null   object \n",
      " 8   director              10822 non-null  object \n",
      " 9   tagline               8042 non-null   object \n",
      " 10  keywords              9373 non-null   object \n",
      " 11  overview              10862 non-null  object \n",
      " 12  runtime               10866 non-null  int64  \n",
      " 13  genres                10843 non-null  object \n",
      " 14  production_companies  9836 non-null   object \n",
      " 15  release_date          10866 non-null  object \n",
      " 16  vote_count            10866 non-null  int64  \n",
      " 17  vote_average          10866 non-null  float64\n",
      " 18  release_year          10866 non-null  int64  \n",
      " 19  budget_adj            10866 non-null  float64\n",
      " 20  revenue_adj           10866 non-null  float64\n",
      "dtypes: float64(4), int64(6), object(11)\n",
      "memory usage: 1.3+ MB\n"
     ]
    }
   ],
   "source": [
    "# Load your data and print out a few lines. Perform operations to inspect data\n",
    "df=pd.read_csv('tmdb-movies.csv')\n",
    "df.info()"
   ]
  },
  {
   "cell_type": "code",
   "execution_count": 61,
   "metadata": {
    "collapsed": true
   },
   "outputs": [
    {
     "name": "stdout",
     "output_type": "stream",
     "text": [
      "<class 'pandas.core.frame.DataFrame'>\n",
      "RangeIndex: 10866 entries, 0 to 10865\n",
      "Data columns (total 7 columns):\n",
      " #   Column        Non-Null Count  Dtype  \n",
      "---  ------        --------------  -----  \n",
      " 0   popularity    10866 non-null  float64\n",
      " 1   budget        10866 non-null  int64  \n",
      " 2   revenue       10866 non-null  int64  \n",
      " 3   runtime       10866 non-null  int64  \n",
      " 4   vote_count    10866 non-null  int64  \n",
      " 5   vote_average  10866 non-null  float64\n",
      " 6   release_year  10866 non-null  int64  \n",
      "dtypes: float64(2), int64(5)\n",
      "memory usage: 594.3 KB\n"
     ]
    },
    {
     "data": {
      "text/html": [
       "<div>\n",
       "<style scoped>\n",
       "    .dataframe tbody tr th:only-of-type {\n",
       "        vertical-align: middle;\n",
       "    }\n",
       "\n",
       "    .dataframe tbody tr th {\n",
       "        vertical-align: top;\n",
       "    }\n",
       "\n",
       "    .dataframe thead th {\n",
       "        text-align: right;\n",
       "    }\n",
       "</style>\n",
       "<table border=\"1\" class=\"dataframe\">\n",
       "  <thead>\n",
       "    <tr style=\"text-align: right;\">\n",
       "      <th></th>\n",
       "      <th>popularity</th>\n",
       "      <th>budget</th>\n",
       "      <th>revenue</th>\n",
       "      <th>runtime</th>\n",
       "      <th>vote_count</th>\n",
       "      <th>vote_average</th>\n",
       "      <th>release_year</th>\n",
       "    </tr>\n",
       "  </thead>\n",
       "  <tbody>\n",
       "    <tr>\n",
       "      <th>count</th>\n",
       "      <td>10865.000000</td>\n",
       "      <td>1.086500e+04</td>\n",
       "      <td>1.086500e+04</td>\n",
       "      <td>10865.000000</td>\n",
       "      <td>10865.000000</td>\n",
       "      <td>10865.000000</td>\n",
       "      <td>10865.000000</td>\n",
       "    </tr>\n",
       "    <tr>\n",
       "      <th>mean</th>\n",
       "      <td>0.646446</td>\n",
       "      <td>1.462429e+07</td>\n",
       "      <td>3.982690e+07</td>\n",
       "      <td>102.071790</td>\n",
       "      <td>217.399632</td>\n",
       "      <td>5.975012</td>\n",
       "      <td>2001.321859</td>\n",
       "    </tr>\n",
       "    <tr>\n",
       "      <th>std</th>\n",
       "      <td>1.000231</td>\n",
       "      <td>3.091428e+07</td>\n",
       "      <td>1.170083e+08</td>\n",
       "      <td>31.382701</td>\n",
       "      <td>575.644627</td>\n",
       "      <td>0.935138</td>\n",
       "      <td>12.813260</td>\n",
       "    </tr>\n",
       "    <tr>\n",
       "      <th>min</th>\n",
       "      <td>0.000065</td>\n",
       "      <td>0.000000e+00</td>\n",
       "      <td>0.000000e+00</td>\n",
       "      <td>0.000000</td>\n",
       "      <td>10.000000</td>\n",
       "      <td>1.500000</td>\n",
       "      <td>1960.000000</td>\n",
       "    </tr>\n",
       "    <tr>\n",
       "      <th>25%</th>\n",
       "      <td>0.207575</td>\n",
       "      <td>0.000000e+00</td>\n",
       "      <td>0.000000e+00</td>\n",
       "      <td>90.000000</td>\n",
       "      <td>17.000000</td>\n",
       "      <td>5.400000</td>\n",
       "      <td>1995.000000</td>\n",
       "    </tr>\n",
       "    <tr>\n",
       "      <th>50%</th>\n",
       "      <td>0.383831</td>\n",
       "      <td>0.000000e+00</td>\n",
       "      <td>0.000000e+00</td>\n",
       "      <td>99.000000</td>\n",
       "      <td>38.000000</td>\n",
       "      <td>6.000000</td>\n",
       "      <td>2006.000000</td>\n",
       "    </tr>\n",
       "    <tr>\n",
       "      <th>75%</th>\n",
       "      <td>0.713857</td>\n",
       "      <td>1.500000e+07</td>\n",
       "      <td>2.400000e+07</td>\n",
       "      <td>111.000000</td>\n",
       "      <td>146.000000</td>\n",
       "      <td>6.600000</td>\n",
       "      <td>2011.000000</td>\n",
       "    </tr>\n",
       "    <tr>\n",
       "      <th>max</th>\n",
       "      <td>32.985763</td>\n",
       "      <td>4.250000e+08</td>\n",
       "      <td>2.781506e+09</td>\n",
       "      <td>900.000000</td>\n",
       "      <td>9767.000000</td>\n",
       "      <td>9.200000</td>\n",
       "      <td>2015.000000</td>\n",
       "    </tr>\n",
       "  </tbody>\n",
       "</table>\n",
       "</div>"
      ],
      "text/plain": [
       "         popularity        budget       revenue       runtime    vote_count  \\\n",
       "count  10865.000000  1.086500e+04  1.086500e+04  10865.000000  10865.000000   \n",
       "mean       0.646446  1.462429e+07  3.982690e+07    102.071790    217.399632   \n",
       "std        1.000231  3.091428e+07  1.170083e+08     31.382701    575.644627   \n",
       "min        0.000065  0.000000e+00  0.000000e+00      0.000000     10.000000   \n",
       "25%        0.207575  0.000000e+00  0.000000e+00     90.000000     17.000000   \n",
       "50%        0.383831  0.000000e+00  0.000000e+00     99.000000     38.000000   \n",
       "75%        0.713857  1.500000e+07  2.400000e+07    111.000000    146.000000   \n",
       "max       32.985763  4.250000e+08  2.781506e+09    900.000000   9767.000000   \n",
       "\n",
       "       vote_average  release_year  \n",
       "count  10865.000000  10865.000000  \n",
       "mean       5.975012   2001.321859  \n",
       "std        0.935138     12.813260  \n",
       "min        1.500000   1960.000000  \n",
       "25%        5.400000   1995.000000  \n",
       "50%        6.000000   2006.000000  \n",
       "75%        6.600000   2011.000000  \n",
       "max        9.200000   2015.000000  "
      ]
     },
     "execution_count": 61,
     "metadata": {},
     "output_type": "execute_result"
    }
   ],
   "source": [
    "#Drop unwanted column\n",
    "df.drop(['production_companies','original_title','director','overview','tagline','homepage','cast','id','imdb_id','keywords','release_date','budget_adj','revenue_adj','genres'],inplace=True,axis=1)\n",
    "df.info()\n",
    "df.drop_duplicates(inplace = True)\n",
    "df.describe()\n"
   ]
  },
  {
   "cell_type": "code",
   "execution_count": 62,
   "metadata": {},
   "outputs": [],
   "source": [
    "#getting the years in our dataset\n",
    "years_list=[]\n",
    "for x in df['release_year']:\n",
    "    if x not in years_list:\n",
    "        years_list.append(x)\n",
    "years_list.sort()"
   ]
  },
  {
   "cell_type": "code",
   "execution_count": 69,
   "metadata": {},
   "outputs": [
    {
     "data": {
      "text/html": [
       "<div>\n",
       "<style scoped>\n",
       "    .dataframe tbody tr th:only-of-type {\n",
       "        vertical-align: middle;\n",
       "    }\n",
       "\n",
       "    .dataframe tbody tr th {\n",
       "        vertical-align: top;\n",
       "    }\n",
       "\n",
       "    .dataframe thead th {\n",
       "        text-align: right;\n",
       "    }\n",
       "</style>\n",
       "<table border=\"1\" class=\"dataframe\">\n",
       "  <thead>\n",
       "    <tr style=\"text-align: right;\">\n",
       "      <th></th>\n",
       "      <th>years</th>\n",
       "      <th>av_budget</th>\n",
       "      <th>av_revenue</th>\n",
       "      <th>av_popularity</th>\n",
       "      <th>av_vote_count</th>\n",
       "      <th>av_rating</th>\n",
       "      <th>av_runtime</th>\n",
       "      <th>av_profit</th>\n",
       "    </tr>\n",
       "  </thead>\n",
       "  <tbody>\n",
       "    <tr>\n",
       "      <th>count</th>\n",
       "      <td>56.000000</td>\n",
       "      <td>5.600000e+01</td>\n",
       "      <td>5.600000e+01</td>\n",
       "      <td>56.000000</td>\n",
       "      <td>56.000000</td>\n",
       "      <td>56.000000</td>\n",
       "      <td>56.000000</td>\n",
       "      <td>5.600000e+01</td>\n",
       "    </tr>\n",
       "    <tr>\n",
       "      <th>mean</th>\n",
       "      <td>1987.500000</td>\n",
       "      <td>9.828067e+06</td>\n",
       "      <td>3.075392e+07</td>\n",
       "      <td>0.559551</td>\n",
       "      <td>156.476682</td>\n",
       "      <td>6.104808</td>\n",
       "      <td>105.705088</td>\n",
       "      <td>2.092585e+07</td>\n",
       "    </tr>\n",
       "    <tr>\n",
       "      <th>std</th>\n",
       "      <td>16.309506</td>\n",
       "      <td>8.019158e+06</td>\n",
       "      <td>1.573193e+07</td>\n",
       "      <td>0.128254</td>\n",
       "      <td>73.960689</td>\n",
       "      <td>0.199980</td>\n",
       "      <td>5.522549</td>\n",
       "      <td>9.121204e+06</td>\n",
       "    </tr>\n",
       "    <tr>\n",
       "      <th>min</th>\n",
       "      <td>1960.000000</td>\n",
       "      <td>6.892796e+05</td>\n",
       "      <td>1.842102e+06</td>\n",
       "      <td>0.304112</td>\n",
       "      <td>31.739130</td>\n",
       "      <td>5.799830</td>\n",
       "      <td>96.044006</td>\n",
       "      <td>5.909106e+05</td>\n",
       "    </tr>\n",
       "    <tr>\n",
       "      <th>25%</th>\n",
       "      <td>1973.750000</td>\n",
       "      <td>2.426431e+06</td>\n",
       "      <td>1.815642e+07</td>\n",
       "      <td>0.469625</td>\n",
       "      <td>98.832785</td>\n",
       "      <td>5.960597</td>\n",
       "      <td>101.910776</td>\n",
       "      <td>1.585978e+07</td>\n",
       "    </tr>\n",
       "    <tr>\n",
       "      <th>50%</th>\n",
       "      <td>1987.500000</td>\n",
       "      <td>6.906936e+06</td>\n",
       "      <td>3.255497e+07</td>\n",
       "      <td>0.546928</td>\n",
       "      <td>139.040793</td>\n",
       "      <td>6.041295</td>\n",
       "      <td>105.678699</td>\n",
       "      <td>2.284545e+07</td>\n",
       "    </tr>\n",
       "    <tr>\n",
       "      <th>75%</th>\n",
       "      <td>2001.250000</td>\n",
       "      <td>1.645743e+07</td>\n",
       "      <td>4.288089e+07</td>\n",
       "      <td>0.626697</td>\n",
       "      <td>206.473666</td>\n",
       "      <td>6.242106</td>\n",
       "      <td>107.593247</td>\n",
       "      <td>2.695966e+07</td>\n",
       "    </tr>\n",
       "    <tr>\n",
       "      <th>max</th>\n",
       "      <td>2015.000000</td>\n",
       "      <td>2.573766e+07</td>\n",
       "      <td>5.549569e+07</td>\n",
       "      <td>1.030657</td>\n",
       "      <td>325.471927</td>\n",
       "      <td>6.703636</td>\n",
       "      <td>124.343750</td>\n",
       "      <td>3.594547e+07</td>\n",
       "    </tr>\n",
       "  </tbody>\n",
       "</table>\n",
       "</div>"
      ],
      "text/plain": [
       "             years     av_budget    av_revenue  av_popularity  av_vote_count  \\\n",
       "count    56.000000  5.600000e+01  5.600000e+01      56.000000      56.000000   \n",
       "mean   1987.500000  9.828067e+06  3.075392e+07       0.559551     156.476682   \n",
       "std      16.309506  8.019158e+06  1.573193e+07       0.128254      73.960689   \n",
       "min    1960.000000  6.892796e+05  1.842102e+06       0.304112      31.739130   \n",
       "25%    1973.750000  2.426431e+06  1.815642e+07       0.469625      98.832785   \n",
       "50%    1987.500000  6.906936e+06  3.255497e+07       0.546928     139.040793   \n",
       "75%    2001.250000  1.645743e+07  4.288089e+07       0.626697     206.473666   \n",
       "max    2015.000000  2.573766e+07  5.549569e+07       1.030657     325.471927   \n",
       "\n",
       "       av_rating  av_runtime     av_profit  \n",
       "count  56.000000   56.000000  5.600000e+01  \n",
       "mean    6.104808  105.705088  2.092585e+07  \n",
       "std     0.199980    5.522549  9.121204e+06  \n",
       "min     5.799830   96.044006  5.909106e+05  \n",
       "25%     5.960597  101.910776  1.585978e+07  \n",
       "50%     6.041295  105.678699  2.284545e+07  \n",
       "75%     6.242106  107.593247  2.695966e+07  \n",
       "max     6.703636  124.343750  3.594547e+07  "
      ]
     },
     "execution_count": 69,
     "metadata": {},
     "output_type": "execute_result"
    }
   ],
   "source": [
    "#getting our study information year by year\n",
    "av_budget=[]\n",
    "av_revenue=[]\n",
    "av_popularity=[]\n",
    "av_vote_count=[]\n",
    "av_vote_average =[]\n",
    "av_runtime=[]\n",
    "for x in years_list:\n",
    "    av_budget.append(df[df['release_year']==x]['budget'].mean())\n",
    "    av_revenue.append(df[df['release_year']==x]['revenue'].mean())\n",
    "    av_popularity.append(df[df['release_year']==x]['popularity'].mean())\n",
    "    av_vote_count.append(df[df['release_year']==x]['vote_count'].mean())\n",
    "    av_vote_average.append(df[df['release_year']==x]['vote_average'].mean())\n",
    "    av_runtime.append(df[df['release_year']==x]['runtime'].mean())\n",
    "    av_profit=np.array(av_revenue)-np.array(av_budget)\n",
    "dfmod=pd.DataFrame({'years':years_list,'av_budget':av_budget,'av_revenue':av_revenue,'av_popularity':av_popularity,'av_vote_count':av_vote_count,'av_rating':av_vote_average,'av_runtime':av_runtime,'av_profit':av_profit})\n",
    "dfmod.describe()\n"
   ]
  },
  {
   "cell_type": "markdown",
   "metadata": {},
   "source": [
    "<a id='eda'></a>\n",
    "## Exploratory Data Analysis\n",
    "\n",
    ">what are the relation between the movies rating and popularity ??"
   ]
  },
  {
   "cell_type": "code",
   "execution_count": 64,
   "metadata": {
    "collapsed": true
   },
   "outputs": [
    {
     "data": {
      "text/plain": [
       "Text(0.5, 1.0, 'rating VS popularity')"
      ]
     },
     "execution_count": 64,
     "metadata": {},
     "output_type": "execute_result"
    },
    {
     "data": {
      "image/png": "[encoded data removed]",
      "text/plain": [
       "<Figure size 360x360 with 1 Axes>"
      ]
     },
     "metadata": {
      "needs_background": "light"
     },
     "output_type": "display_data"
    }
   ],
   "source": [
    "# Use this, and more code cells, to explore your data. Don't forget to add\n",
    "#   Markdown cells to document your observations and findings.\n",
    "sns.lmplot(data=dfmod,x='av_rating',y='av_popularity')\n",
    "plt.title('rating VS popularity')"
   ]
  },
  {
   "cell_type": "markdown",
   "metadata": {},
   "source": [
    "## As we saw here the most popular years has relativly law rating average."
   ]
  },
  {
   "cell_type": "markdown",
   "metadata": {},
   "source": [
    "\n",
    ">what is the most productive years ?"
   ]
  },
  {
   "cell_type": "code",
   "execution_count": 65,
   "metadata": {},
   "outputs": [
    {
     "data": {
      "text/plain": [
       "Text(0.5, 1.0, 'Movies produced yearly')"
      ]
     },
     "execution_count": 65,
     "metadata": {},
     "output_type": "execute_result"
    },
    {
     "data": {
      "image/png": "[encoded data removed]",
      "text/plain": [
       "<Figure size 432x288 with 1 Axes>"
      ]
     },
     "metadata": {
      "needs_background": "light"
     },
     "output_type": "display_data"
    }
   ],
   "source": [
    "df['release_year'].hist()\n",
    "plt.title('Movies produced yearly')"
   ]
  },
  {
   "cell_type": "markdown",
   "metadata": {},
   "source": [
    "## It is clear that the cinema market is growing as the productivity increase year by year ."
   ]
  },
  {
   "cell_type": "markdown",
   "metadata": {},
   "source": [
    ">what happend to the movies budget what is it's effect on the profit and the run time over the years ??"
   ]
  },
  {
   "cell_type": "code",
   "execution_count": 66,
   "metadata": {
    "collapsed": true
   },
   "outputs": [
    {
     "data": {
      "text/plain": [
       "Text(0.5, 1.0, 'Runtime over the years taking revenue in consederation')"
      ]
     },
     "execution_count": 66,
     "metadata": {},
     "output_type": "execute_result"
    },
    {
     "data": {
      "image/png": "[encoded data removed]",
      "text/plain": [
       "<Figure size 432x288 with 1 Axes>"
      ]
     },
     "metadata": {
      "needs_background": "light"
     },
     "output_type": "display_data"
    }
   ],
   "source": [
    "# Continue to explore the data to address your additional research\n",
    "sns.scatterplot(data=dfmod,x='years',y='av_runtime',hue='av_revenue')\n",
    "plt.title('Runtime over the years taking revenue in consederation')\n"
   ]
  },
  {
   "cell_type": "markdown",
   "metadata": {},
   "source": [
    "## It is obvious that the runtime decreased over the years but we must notice the increase in the revenue in the same time."
   ]
  },
  {
   "cell_type": "markdown",
   "metadata": {},
   "source": [
    ">what is the most prfitable years ?"
   ]
  },
  {
   "cell_type": "code",
   "execution_count": 67,
   "metadata": {},
   "outputs": [
    {
     "data": {
      "text/plain": [
       "Text(0.5, 1.0, 'years VS average profit')"
      ]
     },
     "execution_count": 67,
     "metadata": {},
     "output_type": "execute_result"
    },
    {
     "data": {
      "image/png": "[encoded data removed]",
      "text/plain": [
       "<Figure size 360x360 with 1 Axes>"
      ]
     },
     "metadata": {
      "needs_background": "light"
     },
     "output_type": "display_data"
    }
   ],
   "source": [
    "sns.lmplot(data=dfmod,x='years',y='av_profit')\n",
    "plt.title('years VS average profit')"
   ]
  },
  {
   "cell_type": "markdown",
   "metadata": {},
   "source": [
    "## The average profit increaced over the years but stated to go down !!"
   ]
  },
  {
   "cell_type": "markdown",
   "metadata": {},
   "source": [
    "<a id='conclusions'></a>\n",
    "## Conclusions\n",
    "\n",
    "> As I presented in my report the runtime decreased dramaticaly over the years as the films rating average too even though the popularity increased as the profit acordingly but the budget gone up in the start of the century but started to go down after then as the profit did .\n",
    "so as a conclution the quality of the movies rose to draw investment then it started to go totaly in commercial way seeking profit and popularity but this journey coming to it's end."
   ]
  },
  {
   "cell_type": "markdown",
   "metadata": {},
   "source": [
    ">## limitations:\n",
    ">1-We have used TMBD Movies dataset for our analysis and worked with popularity, revenue and runtime.\n"
   ]
  },
  {
   "cell_type": "markdown",
   "metadata": {},
   "source": [
    ">2-Our analysis is limited to only the provided dataset.\n"
   ]
  },
  {
   "cell_type": "markdown",
   "metadata": {},
   "source": [
    "> 3-For example, the dataset does not confirm that every release of every director is listed.\n"
   ]
  },
  {
   "cell_type": "markdown",
   "metadata": {},
   "source": [
    ">4-There is no normalization or exchange rate or currency conversion is considered during this analysis and our analysis is limited to the numerical values of revenue.\n"
   ]
  },
  {
   "cell_type": "markdown",
   "metadata": {},
   "source": [
    ">5-Dropping missing or Null values from variables of our interest might skew our analysis and could show unintentional bias towards the relationship being analyzed. etc."
   ]
  }
 ],
 "metadata": {
  "kernelspec": {
   "display_name": "Python [default]",
   "language": "python",
   "name": "python3"
  },
  "language_info": {
   "codemirror_mode": {
    "name": "ipython",
    "version": 3
   },
   "file_extension": ".py",
   "mimetype": "text/x-python",
   "name": "python",
   "nbconvert_exporter": "python",
   "pygments_lexer": "ipython3",
   "version": "3.8.10"
  }
 },
 "nbformat": 4,
 "nbformat_minor": 2
}
